{
 "cells": [
  {
   "cell_type": "code",
   "execution_count": 1,
   "metadata": {},
   "outputs": [],
   "source": [
    "import numpy as np\n",
    "import matplotlib.pyplot as plt\n",
    "import pandas as pd\n",
    "%matplotlib inline\n",
    "plt.rcParams[\"savefig.dpi\"] = 300\n",
    "plt.rcParams[\"savefig.bbox\"] = 'tight'"
   ]
  },
  {
   "cell_type": "code",
   "execution_count": 2,
   "metadata": {},
   "outputs": [],
   "source": [
    "from sklearn.datasets import load_iris\n",
    "from sklearn.utils import shuffle\n",
    "iris = load_iris()"
   ]
  },
  {
   "cell_type": "code",
   "execution_count": 3,
   "metadata": {},
   "outputs": [],
   "source": [
    "X, y = iris.data, iris.target\n",
    "X, y = shuffle(X, y)"
   ]
  },
  {
   "cell_type": "code",
   "execution_count": 4,
   "metadata": {},
   "outputs": [
    {
     "name": "stdout",
     "output_type": "stream",
     "text": [
      "[[6.8 3.2 5.9 2.3]\n",
      " [5.4 3.  4.5 1.5]\n",
      " [5.5 2.3 4.  1.3]\n",
      " [6.1 2.8 4.  1.3]\n",
      " [5.8 2.7 3.9 1.2]\n",
      " [5.  3.3 1.4 0.2]\n",
      " [5.8 2.7 5.1 1.9]\n",
      " [4.6 3.1 1.5 0.2]\n",
      " [7.2 3.2 6.  1.8]\n",
      " [5.6 3.  4.5 1.5]\n",
      " [6.3 2.5 5.  1.9]\n",
      " [5.4 3.9 1.7 0.4]\n",
      " [6.9 3.1 5.1 2.3]\n",
      " [5.  3.5 1.3 0.3]\n",
      " [5.5 4.2 1.4 0.2]\n",
      " [5.  3.2 1.2 0.2]\n",
      " [6.7 3.3 5.7 2.1]\n",
      " [5.6 2.7 4.2 1.3]\n",
      " [5.1 3.8 1.5 0.3]\n",
      " [6.  2.7 5.1 1.6]\n",
      " [4.5 2.3 1.3 0.3]\n",
      " [5.8 4.  1.2 0.2]\n",
      " [6.2 2.9 4.3 1.3]\n",
      " [5.2 4.1 1.5 0.1]\n",
      " [5.7 3.8 1.7 0.3]\n",
      " [6.4 2.8 5.6 2.2]\n",
      " [6.3 2.7 4.9 1.8]\n",
      " [5.7 2.8 4.1 1.3]\n",
      " [4.9 3.1 1.5 0.2]\n",
      " [5.7 3.  4.2 1.2]]\n"
     ]
    }
   ],
   "source": [
    "print(X[:30])"
   ]
  },
  {
   "cell_type": "code",
   "execution_count": 5,
   "metadata": {},
   "outputs": [
    {
     "data": {
      "text/plain": [
       "(150, 4)"
      ]
     },
     "execution_count": 5,
     "metadata": {},
     "output_type": "execute_result"
    }
   ],
   "source": [
    "X.shape"
   ]
  },
  {
   "cell_type": "code",
   "execution_count": 6,
   "metadata": {},
   "outputs": [
    {
     "data": {
      "text/plain": [
       "array([[nan, 3. , 1.1, 0.1],\n",
       "       [nan, 3.2, 1.4, 0.2],\n",
       "       [nan, 2.9, 6.3, 1.8],\n",
       "       [nan, 3. , 4.1, 1.3],\n",
       "       [7.6, 3. , 6.6, 2.1],\n",
       "       [nan, 2.8, 4.8, 1.8],\n",
       "       [nan, 3.2, 4.7, 1.4],\n",
       "       [nan, 3. , 4.2, 1.5],\n",
       "       [nan, 2.6, 4.4, 1.2],\n",
       "       [nan, 2.6, 3.5, 1. ],\n",
       "       [6.5, 3. , 5.2, 2. ],\n",
       "       [nan, 2.9, 4.5, 1.5],\n",
       "       [6.9, 3.1, 5.4, 2.1],\n",
       "       [nan, 2.8, 5.1, 1.5],\n",
       "       [nan, 2.6, 4. , 1.2],\n",
       "       [nan, 2.5, 3.9, 1.1],\n",
       "       [nan, 3.1, 5.5, 1.8],\n",
       "       [nan, 3.2, 1.3, 0.2],\n",
       "       [nan, 3.2, 5.7, 2.3],\n",
       "       [6.5, 3. , 5.8, 2.2],\n",
       "       [nan, 3.5, 1.4, 0.2],\n",
       "       [nan, 2.8, 4.6, 1.5],\n",
       "       [nan, 2.4, 3.8, 1.1],\n",
       "       [nan, 3.4, 4.5, 1.6],\n",
       "       [nan, 3.1, 4.7, 1.5],\n",
       "       [nan, 3.3, 5.7, 2.5],\n",
       "       [6.4, 2.8, 5.6, 2.1],\n",
       "       [nan, 3.6, 6.1, 2.5],\n",
       "       [nan, 2.4, 3.3, 1. ],\n",
       "       [nan, 2.7, 5.3, 1.9]])"
      ]
     },
     "execution_count": 6,
     "metadata": {},
     "output_type": "execute_result"
    }
   ],
   "source": [
    "# a column is mostly missing\n",
    "rng = np.random.RandomState(0)\n",
    "X_missing_column = X.copy()\n",
    "mask = X.sum(axis=1) < rng.normal(loc=19, scale=3, size=X.shape[0])\n",
    "X_missing_column[mask, 0] = np.NaN\n",
    "X_missing_column[120:]"
   ]
  },
  {
   "cell_type": "code",
   "execution_count": 7,
   "metadata": {},
   "outputs": [
    {
     "name": "stdout",
     "output_type": "stream",
     "text": [
      "[ True  True  True  True  True  True  True  True  True  True  True  True\n",
      "  True  True  True  True  True  True  True  True  True  True  True  True\n",
      "  True False  True  True  True  True  True  True False  True False  True\n",
      "  True  True  True  True False  True False  True  True  True False  True\n",
      " False  True  True  True False  True  True  True  True  True  True  True\n",
      "  True  True  True False  True False False  True  True  True  True  True\n",
      "  True False  True  True  True  True  True  True  True  True  True False\n",
      "  True  True  True  True False  True  True  True  True  True  True  True\n",
      "  True  True  True  True  True  True False  True  True  True  True  True\n",
      "  True  True  True  True  True  True  True  True  True  True  True  True\n",
      "  True  True  True  True False  True  True  True  True  True False  True\n",
      " False  True  True  True  True  True  True False  True  True  True  True\n",
      "  True  True False  True  True  True]\n"
     ]
    }
   ],
   "source": [
    "print(mask)"
   ]
  },
  {
   "cell_type": "code",
   "execution_count": 8,
   "metadata": {},
   "outputs": [
    {
     "data": {
      "text/plain": [
       "array([[6.8, 3.2, 5.9, 2.3],\n",
       "       [nan, nan, 4.5, 1.5],\n",
       "       [5.5, 2.3, 4. , 1.3],\n",
       "       [6.1, 2.8, 4. , 1.3],\n",
       "       [5.8, 2.7, 3.9, 1.2],\n",
       "       [nan, nan, nan, nan],\n",
       "       [5.8, 2.7, 5.1, 1.9],\n",
       "       [4.6, 3.1, 1.5, 0.2],\n",
       "       [7.2, 3.2, 6. , 1.8],\n",
       "       [5.6, 3. , 4.5, 1.5],\n",
       "       [6.3, 2.5, 5. , 1.9],\n",
       "       [5.4, 3.9, 1.7, 0.4],\n",
       "       [6.9, 3.1, 5.1, 2.3],\n",
       "       [5. , 3.5, 1.3, 0.3],\n",
       "       [nan, nan, nan, nan],\n",
       "       [5. , 3.2, 1.2, 0.2],\n",
       "       [6.7, 3.3, 5.7, 2.1],\n",
       "       [5.6, 2.7, 4.2, 1.3],\n",
       "       [5.1, 3.8, 1.5, 0.3],\n",
       "       [6. , 2.7, 5.1, 1.6],\n",
       "       [4.5, 2.3, 1.3, 0.3],\n",
       "       [5.8, 4. , 1.2, 0.2],\n",
       "       [6.2, 2.9, 4.3, 1.3],\n",
       "       [5.2, nan, nan, nan],\n",
       "       [5.7, 3.8, 1.7, 0.3],\n",
       "       [6.4, 2.8, 5.6, 2.2],\n",
       "       [nan, nan, nan, 1.8],\n",
       "       [5.7, 2.8, 4.1, 1.3],\n",
       "       [4.9, 3.1, 1.5, 0.2],\n",
       "       [5.7, 3. , 4.2, 1.2]])"
      ]
     },
     "execution_count": 8,
     "metadata": {},
     "output_type": "execute_result"
    }
   ],
   "source": [
    "# only a few rows have missing data. but a lot of it\n",
    "rng = np.random.RandomState(4)\n",
    "X_missing_rows = X.copy()\n",
    "for i in rng.randint(0, 30, 5):\n",
    "    X_missing_rows[i, rng.uniform(size=4)> .2] = np.NaN\n",
    "X_missing_rows[:30]"
   ]
  },
  {
   "cell_type": "code",
   "execution_count": 9,
   "metadata": {},
   "outputs": [
    {
     "data": {
      "text/plain": [
       "array([ 0,  8, 19, 10, 13])"
      ]
     },
     "execution_count": 9,
     "metadata": {},
     "output_type": "execute_result"
    }
   ],
   "source": [
    "rng.randint(0, 30, 5)\n"
   ]
  },
  {
   "cell_type": "code",
   "execution_count": 10,
   "metadata": {},
   "outputs": [
    {
     "data": {
      "text/plain": [
       "array([6.588, 2.974, 5.552, 2.026])"
      ]
     },
     "execution_count": 10,
     "metadata": {},
     "output_type": "execute_result"
    }
   ],
   "source": [
    "X[y==2].mean(axis=0)"
   ]
  },
  {
   "cell_type": "code",
   "execution_count": 11,
   "metadata": {},
   "outputs": [
    {
     "data": {
      "text/plain": [
       "array([[6.8, 3.2, nan, 2.3],\n",
       "       [5.4, 3. , 4.5, 1.5],\n",
       "       [5.5, 2.3, 4. , 1.3],\n",
       "       [6.1, 2.8, 4. , 1.3],\n",
       "       [5.8, 2.7, 3.9, 1.2],\n",
       "       [5. , 3.3, 1.4, 0.2],\n",
       "       [5.8, 2.7, 5.1, 1.9],\n",
       "       [4.6, 3.1, 1.5, 0.2],\n",
       "       [7.2, 3.2, 6. , nan],\n",
       "       [5.6, 3. , 4.5, 1.5],\n",
       "       [6.3, 2.5, nan, 1.9],\n",
       "       [5.4, 3.9, 1.7, 0.4],\n",
       "       [6.9, 3.1, 5.1, 2.3],\n",
       "       [5. , 3.5, 1.3, 0.3],\n",
       "       [5.5, 4.2, 1.4, 0.2],\n",
       "       [5. , 3.2, 1.2, 0.2],\n",
       "       [6.7, 3.3, 5.7, 2.1],\n",
       "       [5.6, 2.7, nan, 1.3],\n",
       "       [5.1, 3.8, 1.5, 0.3],\n",
       "       [6. , 2.7, 5.1, nan],\n",
       "       [4.5, 2.3, 1.3, 0.3],\n",
       "       [5.8, 4. , 1.2, 0.2],\n",
       "       [6.2, 2.9, 4.3, 1.3],\n",
       "       [5.2, 4.1, 1.5, 0.1],\n",
       "       [5.7, 3.8, 1.7, 0.3],\n",
       "       [6.4, 2.8, nan, 2.2],\n",
       "       [6.3, 2.7, nan, 1.8],\n",
       "       [5.7, 2.8, 4.1, 1.3],\n",
       "       [4.9, 3.1, 1.5, 0.2],\n",
       "       [5.7, 3. , 4.2, 1.2]])"
      ]
     },
     "execution_count": 11,
     "metadata": {},
     "output_type": "execute_result"
    }
   ],
   "source": [
    "# some values missing only\n",
    "rng = np.random.RandomState(0)\n",
    "X_some_missing = X.copy()\n",
    "mask = np.abs(X[:, 2] - rng.normal(loc=5.5, scale=.7, size=X.shape[0])) < .6\n",
    "X_some_missing[mask, 3] = np.NaN\n",
    "# different random numbers\n",
    "mask2 = np.abs(X[:, 2] - rng.normal(loc=5.5, scale=.7, size=X.shape[0])) < .6\n",
    "X_some_missing[mask2, 2] = np.NaN\n",
    "X_some_missing[:30]"
   ]
  },
  {
   "cell_type": "code",
   "execution_count": 12,
   "metadata": {},
   "outputs": [
    {
     "data": {
      "text/plain": [
       "0.21333333333333335"
      ]
     },
     "execution_count": 12,
     "metadata": {},
     "output_type": "execute_result"
    }
   ],
   "source": [
    "np.mean(mask)"
   ]
  },
  {
   "cell_type": "code",
   "execution_count": 13,
   "metadata": {},
   "outputs": [
    {
     "data": {
      "text/plain": [
       "array([50, 39, 21])"
      ]
     },
     "execution_count": 13,
     "metadata": {},
     "output_type": "execute_result"
    }
   ],
   "source": [
    "np.bincount(y[~mask2])"
   ]
  },
  {
   "cell_type": "code",
   "execution_count": 14,
   "metadata": {},
   "outputs": [],
   "source": [
    "# from now on use X_ = X_some_missing\n",
    "X_ = X_some_missing"
   ]
  },
  {
   "cell_type": "code",
   "execution_count": 15,
   "metadata": {},
   "outputs": [],
   "source": [
    "from sklearn.linear_model import LogisticRegression\n",
    "from sklearn.model_selection import train_test_split, cross_val_score\n",
    "X_train, X_test, y_train, y_test = train_test_split(X_, y, stratify=y, random_state=0)"
   ]
  },
  {
   "cell_type": "code",
   "execution_count": 16,
   "metadata": {},
   "outputs": [
    {
     "data": {
      "text/plain": [
       "0.7961111111111112"
      ]
     },
     "execution_count": 16,
     "metadata": {},
     "output_type": "execute_result"
    }
   ],
   "source": [
    "from sklearn.pipeline import make_pipeline\n",
    "from sklearn.preprocessing import StandardScaler\n",
    "\n",
    "nan_columns = np.any(np.isnan(X_train), axis=0)\n",
    "X_drop_columns = X_train[:, ~nan_columns]\n",
    "logreg = make_pipeline(StandardScaler(), LogisticRegression(solver='lbfgs',multi_class='multinomial'))\n",
    "scores = cross_val_score(logreg, X_drop_columns, y_train, cv=10)\n",
    "np.mean(scores)"
   ]
  },
  {
   "cell_type": "code",
   "execution_count": null,
   "metadata": {},
   "outputs": [],
   "source": []
  },
  {
   "cell_type": "code",
   "execution_count": 17,
   "metadata": {},
   "outputs": [
    {
     "name": "stdout",
     "output_type": "stream",
     "text": [
      "[[6.  2.7 5.1 nan]\n",
      " [6.4 3.1 5.5 nan]\n",
      " [5.1 3.5 1.4 0.3]\n",
      " [5.1 3.5 1.4 0.2]\n",
      " [5.  3.4 1.5 0.2]\n",
      " [5.  3.2 1.2 0.2]\n",
      " [4.5 2.3 1.3 0.3]\n",
      " [5.6 2.5 3.9 1.1]\n",
      " [5.7 2.5 nan nan]\n",
      " [7.2 3.6 nan nan]\n",
      " [4.9 2.5 4.5 nan]\n",
      " [4.8 3.4 1.6 0.2]\n",
      " [6.2 3.4 nan 2.3]\n",
      " [5.4 3.9 1.7 0.4]\n",
      " [6.9 3.1 5.1 2.3]\n",
      " [5.4 3.9 1.3 0.4]\n",
      " [5.7 2.6 3.5 1. ]\n",
      " [6.4 2.9 4.3 1.3]\n",
      " [5.2 2.7 nan 1.4]\n",
      " [5.7 2.8 4.5 1.3]\n",
      " [4.8 3.  1.4 0.3]\n",
      " [6.5 3.  5.8 2.2]\n",
      " [7.3 2.9 nan nan]\n",
      " [4.6 3.2 1.4 0.2]\n",
      " [6.1 2.9 4.7 1.4]\n",
      " [6.4 3.2 4.5 1.5]\n",
      " [5.1 3.4 1.5 0.2]\n",
      " [7.2 3.  nan 1.6]\n",
      " [6.9 3.1 nan nan]\n",
      " [6.5 3.2 nan 2. ]]\n"
     ]
    }
   ],
   "source": [
    "print(X_train[-30:])"
   ]
  },
  {
   "cell_type": "code",
   "execution_count": 18,
   "metadata": {},
   "outputs": [],
   "source": [
    "np.set_printoptions(precision=3)"
   ]
  },
  {
   "cell_type": "code",
   "execution_count": 19,
   "metadata": {},
   "outputs": [
    {
     "data": {
      "text/plain": [
       "array([[6.   , 2.7  , 5.1  , 0.992],\n",
       "       [6.4  , 3.1  , 5.5  , 0.992],\n",
       "       [5.1  , 3.5  , 1.4  , 0.3  ],\n",
       "       [5.1  , 3.5  , 1.4  , 0.2  ],\n",
       "       [5.   , 3.4  , 1.5  , 0.2  ],\n",
       "       [5.   , 3.2  , 1.2  , 0.2  ],\n",
       "       [4.5  , 2.3  , 1.3  , 0.3  ],\n",
       "       [5.6  , 2.5  , 3.9  , 1.1  ],\n",
       "       [5.7  , 2.5  , 3.298, 0.992],\n",
       "       [7.2  , 3.6  , 3.298, 0.992],\n",
       "       [4.9  , 2.5  , 4.5  , 0.992],\n",
       "       [4.8  , 3.4  , 1.6  , 0.2  ],\n",
       "       [6.2  , 3.4  , 3.298, 2.3  ],\n",
       "       [5.4  , 3.9  , 1.7  , 0.4  ],\n",
       "       [6.9  , 3.1  , 5.1  , 2.3  ],\n",
       "       [5.4  , 3.9  , 1.3  , 0.4  ],\n",
       "       [5.7  , 2.6  , 3.5  , 1.   ],\n",
       "       [6.4  , 2.9  , 4.3  , 1.3  ],\n",
       "       [5.2  , 2.7  , 3.298, 1.4  ],\n",
       "       [5.7  , 2.8  , 4.5  , 1.3  ],\n",
       "       [4.8  , 3.   , 1.4  , 0.3  ],\n",
       "       [6.5  , 3.   , 5.8  , 2.2  ],\n",
       "       [7.3  , 2.9  , 3.298, 0.992],\n",
       "       [4.6  , 3.2  , 1.4  , 0.2  ],\n",
       "       [6.1  , 2.9  , 4.7  , 1.4  ],\n",
       "       [6.4  , 3.2  , 4.5  , 1.5  ],\n",
       "       [5.1  , 3.4  , 1.5  , 0.2  ],\n",
       "       [7.2  , 3.   , 3.298, 1.6  ],\n",
       "       [6.9  , 3.1  , 3.298, 0.992],\n",
       "       [6.5  , 3.2  , 3.298, 2.   ]])"
      ]
     },
     "execution_count": 19,
     "metadata": {},
     "output_type": "execute_result"
    }
   ],
   "source": [
    "from sklearn.impute import SimpleImputer\n",
    "imp = SimpleImputer(strategy=\"mean\").fit(X_train)\n",
    "X_mean_imp = imp.transform(X_train)\n",
    "X_mean_imp[-30:]"
   ]
  },
  {
   "cell_type": "code",
   "execution_count": 20,
   "metadata": {},
   "outputs": [
    {
     "data": {
      "text/plain": [
       "(112, 4)"
      ]
     },
     "execution_count": 20,
     "metadata": {},
     "output_type": "execute_result"
    }
   ],
   "source": [
    "X_mean_imp.shape"
   ]
  },
  {
   "cell_type": "code",
   "execution_count": 21,
   "metadata": {},
   "outputs": [
    {
     "data": {
      "image/png": "[encoded data removed]",
      "text/plain": [
       "<Figure size 432x288 with 1 Axes>"
      ]
     },
     "metadata": {
      "needs_background": "light"
     },
     "output_type": "display_data"
    }
   ],
   "source": [
    "import matplotlib.patches as patches\n",
    "imputed_mask = np.any(np.isnan(X_train), axis=1)\n",
    "\n",
    "def plot_imputation(X_imp, title=None, ax=None):\n",
    "    # helper function to plot imputed data points\n",
    "    if ax is None:\n",
    "        ax = plt.gca()\n",
    "    if title is not None:\n",
    "        ax.set_title(title)\n",
    "    ax.scatter(X_imp[imputed_mask, 2], X_imp[imputed_mask, 3], c=plt.cm.tab10(y_train[imputed_mask]), alpha=.6, marker=\"s\")\n",
    "    ax.scatter(X_imp[~imputed_mask, 2], X_imp[~imputed_mask, 3], c=plt.cm.tab10(y_train[~imputed_mask]), alpha=.6)\n",
    "    # this is for creating the legend...\n",
    "    square = plt.Line2D((0,), (0,), linestyle='', marker=\"s\", markerfacecolor=\"w\", markeredgecolor=\"k\", label='Imputed data')\n",
    "    circle = plt.Line2D((0,), (0,), linestyle='', marker=\"o\", markerfacecolor=\"w\", markeredgecolor=\"k\", label='Real data')\n",
    "    plt.legend(handles=[square, circle], numpoints=1, loc=\"best\")\n",
    "\n",
    "plot_imputation(X_mean_imp, \"Mean imputation\")"
   ]
  },
  {
   "cell_type": "code",
   "execution_count": 22,
   "metadata": {},
   "outputs": [
    {
     "data": {
      "text/plain": [
       "0.8144444444444444"
      ]
     },
     "execution_count": 22,
     "metadata": {},
     "output_type": "execute_result"
    }
   ],
   "source": [
    "mean_pipe = make_pipeline(SimpleImputer(), StandardScaler(), LogisticRegression(solver='lbfgs',multi_class='multinomial'))\n",
    "scores = cross_val_score(mean_pipe, X_train, y_train, cv=10)\n",
    "np.mean(scores)"
   ]
  },
  {
   "cell_type": "markdown",
   "metadata": {},
   "source": [
    "# Model-driven imputation and KNN"
   ]
  },
  {
   "cell_type": "code",
   "execution_count": 23,
   "metadata": {},
   "outputs": [],
   "source": [
    "# Very inefficient didactic implementation\n",
    "\n",
    "distances = np.zeros((X_train.shape[0], X_train.shape[0]))\n",
    "for i, x1 in enumerate(X_train):\n",
    "    for j, x2 in enumerate(X_train):\n",
    "        dist = (x1 - x2) ** 2\n",
    "        nan_mask = np.isnan(dist)\n",
    "        distances[i, j] = dist[~nan_mask].mean() * X_train.shape[1]\n",
    "        \n",
    "neighbors = np.argsort(distances, axis=1)[:, 1:]\n",
    "n_neighbors = 3\n",
    "\n",
    "X_train_knn = X_train.copy()\n",
    "for feature in range(X_train.shape[1]):\n",
    "    has_missing_value = np.isnan(X_train[:, feature])\n",
    "    for row in np.where(has_missing_value)[0]:\n",
    "        neighbor_features = X_train[neighbors[row], feature]\n",
    "        non_nan_neighbors = neighbor_features[~np.isnan(neighbor_features)]\n",
    "        X_train_knn[row, feature] = non_nan_neighbors[:n_neighbors].mean()"
   ]
  },
  {
   "cell_type": "code",
   "execution_count": 24,
   "metadata": {},
   "outputs": [
    {
     "data": {
      "text/plain": [
       "array([[6.9, 3.1, nan, nan],\n",
       "       [4.6, 3.1, 1.5, 0.2],\n",
       "       [5.8, 4. , 1.2, 0.2],\n",
       "       [5.8, 2.6, 4. , 1.2]])"
      ]
     },
     "execution_count": 24,
     "metadata": {},
     "output_type": "execute_result"
    }
   ],
   "source": [
    "X_train[:4]"
   ]
  },
  {
   "cell_type": "code",
   "execution_count": 25,
   "metadata": {},
   "outputs": [
    {
     "name": "stdout",
     "output_type": "stream",
     "text": [
      "0 [6.9 3.1 nan nan]\n",
      "1 [4.6 3.1 1.5 0.2]\n",
      "2 [5.8 4.  1.2 0.2]\n",
      "3 [5.8 2.6 4.  1.2]\n",
      "4 [6.4 2.8 nan 2.2]\n",
      "5 [6.7 3.3 nan nan]\n",
      "6 [5.6 3.  4.1 1.3]\n",
      "7 [5.1 3.3 1.7 0.5]\n",
      "8 [5.1 2.5 3.  1.1]\n",
      "9 [4.6 3.6 1.  0.2]\n",
      "10 [4.9 3.6 1.4 0.1]\n",
      "11 [6.3 2.3 4.4 1.3]\n",
      "12 [5.5 3.5 1.3 0.2]\n",
      "13 [7.7 3.8 6.7 nan]\n",
      "14 [4.4 2.9 1.4 0.2]\n",
      "15 [5.5 2.5 4.  1.3]\n",
      "16 [6.1 3.  4.6 1.4]\n",
      "17 [6.  2.2 4.  1. ]\n",
      "18 [6.7 3.  5.  nan]\n",
      "19 [6.7 2.5 5.8 nan]\n",
      "20 [7.4 2.8 6.1 nan]\n",
      "21 [5.5 2.4 3.7 1. ]\n",
      "22 [5.2 3.4 1.4 0.2]\n",
      "23 [6.  2.2 nan nan]\n",
      "24 [6.8 3.  5.5 nan]\n",
      "25 [5.8 2.8 nan nan]\n",
      "26 [6.3 2.9 nan nan]\n",
      "27 [6.  2.9 4.5 1.5]\n",
      "28 [6.  3.4 nan 1.6]\n",
      "29 [7.7 2.6 6.9 2.3]\n",
      "30 [5.8 2.7 5.1 1.9]\n",
      "31 [6.3 2.7 nan 1.8]\n",
      "32 [5.  2.3 3.3 1. ]\n",
      "33 [4.8 3.  1.4 0.1]\n",
      "34 [5.5 4.2 1.4 0.2]\n",
      "35 [6.1 2.6 nan 1.4]\n",
      "36 [5.6 2.8 nan 2. ]\n",
      "37 [6.2 2.9 4.3 1.3]\n",
      "38 [5.7 2.8 4.1 1.3]\n",
      "39 [6.5 3.  nan nan]\n",
      "40 [7.7 3.  nan 2.3]\n",
      "41 [5.4 3.7 1.5 0.2]\n",
      "42 [4.9 3.1 1.5 0.2]\n",
      "43 [6.6 3.  nan 1.4]\n",
      "44 [5.  3.5 1.6 0.6]\n",
      "45 [6.1 2.8 4.  1.3]\n",
      "46 [6.7 3.  nan nan]\n",
      "47 [5.7 3.8 1.7 0.3]\n",
      "48 [5.  3.  1.6 0.2]\n",
      "49 [6.1 3.  4.9 1.8]\n",
      "50 [5.8 2.7 3.9 1.2]\n",
      "51 [6.7 3.3 5.7 2.1]\n",
      "52 [5.7 3.  4.2 1.2]\n",
      "53 [5.  3.4 1.6 0.4]\n",
      "54 [5.  3.6 1.4 0.2]\n",
      "55 [5.1 3.8 1.6 0.2]\n",
      "56 [5.1 3.8 1.9 0.4]\n",
      "57 [7.1 3.  nan 2.1]\n",
      "58 [4.8 3.1 1.6 0.2]\n",
      "59 [5.9 3.2 nan 1.8]\n",
      "60 [6.3 2.5 nan 1.5]\n",
      "61 [5.5 2.4 3.8 1.1]\n",
      "62 [7.9 3.8 6.4 2. ]\n",
      "63 [4.9 3.  1.4 0.2]\n",
      "64 [6.3 3.3 4.7 nan]\n",
      "65 [6.5 2.8 nan 1.5]\n",
      "66 [4.7 3.2 1.6 0.2]\n",
      "67 [5.  2.  3.5 1. ]\n",
      "68 [6.4 3.2 nan nan]\n",
      "69 [6.7 3.1 4.4 1.4]\n",
      "70 [7.2 3.2 6.  nan]\n",
      "71 [4.6 3.4 1.4 0.3]\n",
      "72 [6.1 2.8 4.7 1.2]\n",
      "73 [5.8 2.7 5.1 nan]\n",
      "74 [7.6 3.  6.6 2.1]\n",
      "75 [5.7 2.9 4.2 1.3]\n",
      "76 [6.9 3.2 nan nan]\n",
      "77 [5.3 3.7 1.5 0.2]\n",
      "78 [6.7 3.1 4.7 1.5]\n",
      "79 [5.4 3.4 1.7 0.2]\n",
      "80 [4.8 3.4 1.9 0.2]\n",
      "81 [6.  3.  4.8 nan]\n",
      "82 [6.  2.7 5.1 nan]\n",
      "83 [6.4 3.1 5.5 nan]\n",
      "84 [5.1 3.5 1.4 0.3]\n",
      "85 [5.1 3.5 1.4 0.2]\n",
      "86 [5.  3.4 1.5 0.2]\n",
      "87 [5.  3.2 1.2 0.2]\n",
      "88 [4.5 2.3 1.3 0.3]\n",
      "89 [5.6 2.5 3.9 1.1]\n",
      "90 [5.7 2.5 nan nan]\n",
      "91 [7.2 3.6 nan nan]\n",
      "92 [4.9 2.5 4.5 nan]\n",
      "93 [4.8 3.4 1.6 0.2]\n",
      "94 [6.2 3.4 nan 2.3]\n",
      "95 [5.4 3.9 1.7 0.4]\n",
      "96 [6.9 3.1 5.1 2.3]\n",
      "97 [5.4 3.9 1.3 0.4]\n",
      "98 [5.7 2.6 3.5 1. ]\n",
      "99 [6.4 2.9 4.3 1.3]\n",
      "100 [5.2 2.7 nan 1.4]\n",
      "101 [5.7 2.8 4.5 1.3]\n",
      "102 [4.8 3.  1.4 0.3]\n",
      "103 [6.5 3.  5.8 2.2]\n",
      "104 [7.3 2.9 nan nan]\n",
      "105 [4.6 3.2 1.4 0.2]\n",
      "106 [6.1 2.9 4.7 1.4]\n",
      "107 [6.4 3.2 4.5 1.5]\n",
      "108 [5.1 3.4 1.5 0.2]\n",
      "109 [7.2 3.  nan 1.6]\n",
      "110 [6.9 3.1 nan nan]\n",
      "111 [6.5 3.2 nan 2. ]\n"
     ]
    }
   ],
   "source": [
    "for i, x1 in enumerate(X_train):\n",
    "    print(i,x1)"
   ]
  },
  {
   "cell_type": "code",
   "execution_count": 26,
   "metadata": {},
   "outputs": [
    {
     "name": "stdout",
     "output_type": "stream",
     "text": [
      "112\n"
     ]
    }
   ],
   "source": [
    "print(X_train.shape[0])"
   ]
  },
  {
   "cell_type": "code",
   "execution_count": 27,
   "metadata": {},
   "outputs": [
    {
     "name": "stdout",
     "output_type": "stream",
     "text": [
      "[[ 0.   10.58  4.04  2.92  0.68  0.16  3.4   6.56  7.2  11.08  8.5   2.\n",
      "   4.24  2.26 12.58  4.64  1.3   3.24  0.1   0.8   0.68  4.9   5.96  3.24\n",
      "   0.04  2.6   0.8   1.7   1.8   1.78  2.74  1.04  8.5   8.84  6.34  1.78\n",
      "   3.56  1.06  3.06  0.34  1.3   5.22  8.    0.2   7.54  1.46  0.1   3.86\n",
      "   7.24  1.3   2.74  0.16  2.9   7.4   7.72  7.46  7.46  0.1   8.82  2.02\n",
      "   1.44  4.9   2.98  8.02  0.8   0.5   9.7   9.64  0.52  0.08  0.2  10.76\n",
      "   1.46  2.74  1.    2.96  0.02  5.84  0.08  4.68  9.    1.64  1.94  0.5\n",
      "   6.8   6.8   7.4   7.24 12.8   4.1   3.6   0.68  8.72  9.    1.16  5.78\n",
      "   0.    5.78  3.38  0.58  6.1   3.06  8.84  0.34  0.4  10.6   1.36  0.52\n",
      "   6.66  0.2   0.    0.34]]\n"
     ]
    }
   ],
   "source": [
    "print(distances[:1])"
   ]
  },
  {
   "cell_type": "code",
   "execution_count": 28,
   "metadata": {},
   "outputs": [
    {
     "data": {
      "image/png": "[encoded data removed]",
      "text/plain": [
       "<Figure size 432x288 with 1 Axes>"
      ]
     },
     "metadata": {
      "needs_background": "light"
     },
     "output_type": "display_data"
    }
   ],
   "source": [
    "plot_imputation(X_train_knn, \"KNN imputation\")"
   ]
  },
  {
   "cell_type": "code",
   "execution_count": 29,
   "metadata": {},
   "outputs": [
    {
     "data": {
      "text/plain": [
       "0.8783333333333333"
      ]
     },
     "execution_count": 29,
     "metadata": {},
     "output_type": "execute_result"
    }
   ],
   "source": [
    "# this is cheating because I'm not using a pipeline\n",
    "# we would need to write a transformer that does the imputation\n",
    "scores = cross_val_score(logreg, X_train_knn, y_train, cv=10)\n",
    "np.mean(scores)"
   ]
  },
  {
   "cell_type": "code",
   "execution_count": 30,
   "metadata": {},
   "outputs": [],
   "source": [
    "asdf = np.arange(5)"
   ]
  },
  {
   "cell_type": "code",
   "execution_count": 31,
   "metadata": {},
   "outputs": [
    {
     "name": "stdout",
     "output_type": "stream",
     "text": [
      "4\n"
     ]
    }
   ],
   "source": [
    "from sklearn.ensemble import RandomForestRegressor\n",
    "\n",
    "\n",
    "# this is just because I'm lazy and don't want to special-case the first iteration\n",
    "X_imputed = SimpleImputer().fit_transform(X_train)\n",
    "\n",
    "rf = RandomForestRegressor(n_estimators=100)\n",
    "\n",
    "for i in range(10):\n",
    "    last = X_imputed.copy()\n",
    "    for feature in range(X_train.shape[1]):\n",
    "        inds_not_f = np.arange(X_train.shape[1])\n",
    "        inds_not_f = inds_not_f[inds_not_f != feature]\n",
    "        f_missing = np.isnan(X_train[:, feature])\n",
    "        if not np.any(f_missing):\n",
    "            continue\n",
    "        rf.fit(X_imputed[~f_missing][:, inds_not_f], X_train[~f_missing, feature])\n",
    "\n",
    "        X_imputed[f_missing, feature] = rf.predict(X_imputed[f_missing][:, inds_not_f])\n",
    "\n",
    "    # this would make more sense if we scaled the data beforehand\n",
    "    if (np.linalg.norm(last - X_imputed)) < .5:\n",
    "        print(i)\n",
    "        break\n"
   ]
  },
  {
   "cell_type": "code",
   "execution_count": 32,
   "metadata": {},
   "outputs": [
    {
     "data": {
      "image/png": "[encoded data removed]",
      "text/plain": [
       "<Figure size 864x288 with 3 Axes>"
      ]
     },
     "metadata": {
      "needs_background": "light"
     },
     "output_type": "display_data"
    }
   ],
   "source": [
    "fig, axes = plt.subplots(1, 3, figsize=(12, 4))\n",
    "plot_imputation(X_mean_imp, \"Mean\", ax=axes[0])\n",
    "plot_imputation(X_train_knn, \"KNN\", ax=axes[1])\n",
    "plot_imputation(X_imputed, \"Random Forest imputation\", ax=axes[2])"
   ]
  },
  {
   "cell_type": "code",
   "execution_count": 33,
   "metadata": {},
   "outputs": [
    {
     "data": {
      "text/plain": [
       "0.9172222222222223"
      ]
     },
     "execution_count": 33,
     "metadata": {},
     "output_type": "execute_result"
    }
   ],
   "source": [
    "scores = cross_val_score(logreg, X_imputed, y_train, cv=10)\n",
    "np.mean(scores)"
   ]
  },
  {
   "cell_type": "markdown",
   "metadata": {},
   "source": [
    "# Feature Selection"
   ]
  },
  {
   "cell_type": "code",
   "execution_count": 34,
   "metadata": {},
   "outputs": [],
   "source": [
    "from sklearn.datasets import load_boston"
   ]
  },
  {
   "cell_type": "code",
   "execution_count": 35,
   "metadata": {},
   "outputs": [],
   "source": [
    "boston = load_boston()\n",
    "X, y = boston.data, boston.target\n",
    "X_train, X_test, y_train, y_test = train_test_split(X, y, random_state=0)"
   ]
  },
  {
   "cell_type": "code",
   "execution_count": 36,
   "metadata": {},
   "outputs": [],
   "source": [
    "from sklearn.preprocessing import scale\n",
    "X_train_scaled = scale(X_train)\n",
    "cov = np.cov(X_train_scaled, rowvar=False)"
   ]
  },
  {
   "cell_type": "code",
   "execution_count": 37,
   "metadata": {},
   "outputs": [
    {
     "data": {
      "image/png": "[encoded data removed]",
      "text/plain": [
       "<Figure size 800x800 with 1 Axes>"
      ]
     },
     "metadata": {
      "needs_background": "light"
     },
     "output_type": "display_data"
    }
   ],
   "source": [
    "plt.figure(figsize=(8, 8), dpi=100)\n",
    "plt.imshow(cov)\n",
    "plt.xticks(range(X.shape[1]), boston.feature_names)\n",
    "plt.yticks(range(X.shape[1]), boston.feature_names);"
   ]
  },
  {
   "cell_type": "code",
   "execution_count": 38,
   "metadata": {},
   "outputs": [],
   "source": [
    "from scipy.cluster import hierarchy\n",
    "order = np.array(hierarchy.dendrogram(hierarchy.ward(cov), no_plot=True)['ivl'], dtype=\"int\")"
   ]
  },
  {
   "cell_type": "code",
   "execution_count": 39,
   "metadata": {},
   "outputs": [
    {
     "data": {
      "image/png": "[encoded data removed]",
      "text/plain": [
       "<Figure size 800x800 with 1 Axes>"
      ]
     },
     "metadata": {
      "needs_background": "light"
     },
     "output_type": "display_data"
    }
   ],
   "source": [
    "plt.figure(figsize=(8, 8), dpi=100)\n",
    "plt.imshow(cov[order, :][:, order])\n",
    "plt.xticks(range(X.shape[1]), boston.feature_names[order])\n",
    "plt.yticks(range(X.shape[1]), boston.feature_names[order]);"
   ]
  },
  {
   "cell_type": "markdown",
   "metadata": {},
   "source": [
    "# Supervised feature selection"
   ]
  },
  {
   "cell_type": "code",
   "execution_count": 40,
   "metadata": {},
   "outputs": [],
   "source": [
    "from sklearn.feature_selection import f_regression\n",
    "f_values, p_values = f_regression(X, y)"
   ]
  },
  {
   "cell_type": "code",
   "execution_count": 41,
   "metadata": {},
   "outputs": [
    {
     "data": {
      "image/png": "[encoded data removed]",
      "text/plain": [
       "<Figure size 432x288 with 2 Axes>"
      ]
     },
     "metadata": {
      "needs_background": "light"
     },
     "output_type": "display_data"
    }
   ],
   "source": [
    "fig, ax = plt.subplots(2, 1)\n",
    "ax[0].set_title(\"F values\")\n",
    "ax[0].plot(f_values, 'o')\n",
    "ax[1].set_title(\"p values\")\n",
    "ax[1].plot(p_values, 'o')\n",
    "ax[1].set_yscale(\"log\")\n",
    "\n",
    "ax[1].set_xticks(range(X.shape[1]))\n",
    "ax[1].set_xticklabels(boston.feature_names, rotation=50);\n",
    "fig.tight_layout()"
   ]
  },
  {
   "cell_type": "code",
   "execution_count": 42,
   "metadata": {},
   "outputs": [
    {
     "name": "stdout",
     "output_type": "stream",
     "text": [
      "(379, 13)\n",
      "(379, 2)\n"
     ]
    }
   ],
   "source": [
    "from sklearn.feature_selection import SelectKBest, SelectPercentile, SelectFpr\n",
    "from sklearn.linear_model import RidgeCV\n",
    "\n",
    "select = SelectKBest(k=2, score_func=f_regression)\n",
    "select.fit(X_train, y_train)\n",
    "print(X_train.shape)\n",
    "print(select.transform(X_train).shape)"
   ]
  },
  {
   "cell_type": "code",
   "execution_count": 43,
   "metadata": {},
   "outputs": [],
   "source": [
    "all_features = make_pipeline(StandardScaler(), RidgeCV())\n",
    "select_2 = make_pipeline(StandardScaler(), SelectKBest(k=2, score_func=f_regression), RidgeCV())"
   ]
  },
  {
   "cell_type": "code",
   "execution_count": 44,
   "metadata": {},
   "outputs": [
    {
     "data": {
      "text/plain": [
       "0.71795885107509"
      ]
     },
     "execution_count": 44,
     "metadata": {},
     "output_type": "execute_result"
    }
   ],
   "source": [
    "np.mean(cross_val_score(all_features, X_train, y_train, cv=10))"
   ]
  },
  {
   "cell_type": "code",
   "execution_count": 45,
   "metadata": {},
   "outputs": [
    {
     "data": {
      "text/plain": [
       "0.6243625749168433"
      ]
     },
     "execution_count": 45,
     "metadata": {},
     "output_type": "execute_result"
    }
   ],
   "source": [
    "np.mean(cross_val_score(select_2, X_train, y_train, cv=10))"
   ]
  },
  {
   "cell_type": "code",
   "execution_count": 46,
   "metadata": {},
   "outputs": [
    {
     "data": {
      "text/plain": [
       "<matplotlib.legend.Legend at 0x1a21af18d0>"
      ]
     },
     "execution_count": 46,
     "metadata": {},
     "output_type": "execute_result"
    },
    {
     "data": {
      "image/png": "[encoded data removed]",
      "text/plain": [
       "<Figure size 576x144 with 2 Axes>"
      ]
     },
     "metadata": {
      "needs_background": "light"
     },
     "output_type": "display_data"
    }
   ],
   "source": [
    "from sklearn.feature_selection import mutual_info_regression\n",
    "scores = mutual_info_regression(X_train, y_train, discrete_features=[3])\n",
    "\n",
    "fig = plt.figure(figsize=(8, 2))\n",
    "line_f, = plt.plot(f_values, 'o', c='r')\n",
    "plt.ylabel(\"F value\")\n",
    "ax2 = plt.twinx()\n",
    "line_s, = ax2.plot(scores, 'o', alpha=.7)\n",
    "ax2.set_ylabel(\"MI score\")\n",
    "plt.xticks(range(X.shape[1]), boston.feature_names)\n",
    "plt.legend([line_s, line_f], [\"Mutual info scores\", \"F values\"], loc=(0, 1))"
   ]
  },
  {
   "cell_type": "code",
   "execution_count": 47,
   "metadata": {},
   "outputs": [
    {
     "name": "stdout",
     "output_type": "stream",
     "text": [
      "[-0.889  0.951 -0.085  0.589 -1.686  2.644 -0.148 -2.795  1.698 -1.614\n",
      " -2.131  0.72  -3.608]\n"
     ]
    },
    {
     "name": "stderr",
     "output_type": "stream",
     "text": [
      "/Users/gceran/anaconda3/lib/python3.7/site-packages/sklearn/model_selection/_split.py:2053: FutureWarning: You should specify a value for 'cv' instead of relying on the default value. The default value will change from 3 to 5 in version 0.22.\n",
      "  warnings.warn(CV_WARNING, FutureWarning)\n"
     ]
    }
   ],
   "source": [
    "from sklearn.linear_model import LassoCV\n",
    "X_train_scaled = scale(X_train)\n",
    "lasso = LassoCV().fit(X_train_scaled, y_train)\n",
    "print(lasso.coef_)"
   ]
  },
  {
   "cell_type": "code",
   "execution_count": 48,
   "metadata": {},
   "outputs": [
    {
     "data": {
      "text/plain": [
       "<matplotlib.legend.Legend at 0x1a21b743c8>"
      ]
     },
     "execution_count": 48,
     "metadata": {},
     "output_type": "execute_result"
    },
    {
     "data": {
      "image/png": "[encoded data removed]",
      "text/plain": [
       "<Figure size 576x144 with 2 Axes>"
      ]
     },
     "metadata": {
      "needs_background": "light"
     },
     "output_type": "display_data"
    }
   ],
   "source": [
    "fig = plt.figure(figsize=(8, 2))\n",
    "line_f, = plt.plot(f_values, 'o', c='r')\n",
    "plt.ylabel(\"F value\")\n",
    "ax2 = plt.twinx()\n",
    "ax2.set_ylabel(\"lasso coefficients\")\n",
    "line_s, = ax2.plot(np.abs(lasso.coef_), 'o', alpha=.7)\n",
    "plt.xticks(range(X.shape[1]), boston.feature_names)\n",
    "plt.legend([line_s, line_f], [\"Lasso coefficients abs\", \"F values\"], loc=(0, 1))"
   ]
  },
  {
   "cell_type": "code",
   "execution_count": 49,
   "metadata": {},
   "outputs": [
    {
     "name": "stdout",
     "output_type": "stream",
     "text": [
      "[-0.     0.    -0.     0.    -0.     2.529 -0.    -0.    -0.    -0.228\n",
      " -1.701  0.132 -3.606]\n"
     ]
    }
   ],
   "source": [
    "from sklearn.linear_model import Lasso\n",
    "X_train_scaled = scale(X_train)\n",
    "lasso = Lasso().fit(X_train_scaled, y_train)\n",
    "print(lasso.coef_)"
   ]
  },
  {
   "cell_type": "code",
   "execution_count": 50,
   "metadata": {},
   "outputs": [
    {
     "data": {
      "text/plain": [
       "<matplotlib.legend.Legend at 0x1a24eb2d30>"
      ]
     },
     "execution_count": 50,
     "metadata": {},
     "output_type": "execute_result"
    },
    {
     "data": {
      "image/png": "[encoded data removed]",
      "text/plain": [
       "<Figure size 576x144 with 2 Axes>"
      ]
     },
     "metadata": {
      "needs_background": "light"
     },
     "output_type": "display_data"
    }
   ],
   "source": [
    "fig = plt.figure(figsize=(8, 2))\n",
    "line_f, = plt.plot(f_values, 'o', c='r')\n",
    "plt.ylabel(\"F value\")\n",
    "ax2 = plt.twinx()\n",
    "ax2.set_ylabel(\"lasso coefficients\")\n",
    "line_s, = ax2.plot(np.abs(lasso.coef_), 'o', alpha=.7)\n",
    "plt.xticks(range(X.shape[1]), boston.feature_names)\n",
    "plt.legend([line_s, line_f], [\"Lasso coefficients abs\", \"F values\"], loc=(0, 1))"
   ]
  },
  {
   "cell_type": "code",
   "execution_count": 51,
   "metadata": {},
   "outputs": [
    {
     "data": {
      "text/plain": [
       "(379, 13)"
      ]
     },
     "execution_count": 51,
     "metadata": {},
     "output_type": "execute_result"
    }
   ],
   "source": [
    "X_train.shape"
   ]
  },
  {
   "cell_type": "code",
   "execution_count": 52,
   "metadata": {},
   "outputs": [
    {
     "name": "stdout",
     "output_type": "stream",
     "text": [
      "(379, 11)\n"
     ]
    },
    {
     "name": "stderr",
     "output_type": "stream",
     "text": [
      "/Users/gceran/anaconda3/lib/python3.7/site-packages/sklearn/model_selection/_split.py:2053: FutureWarning: You should specify a value for 'cv' instead of relying on the default value. The default value will change from 3 to 5 in version 0.22.\n",
      "  warnings.warn(CV_WARNING, FutureWarning)\n"
     ]
    }
   ],
   "source": [
    "from sklearn.feature_selection import SelectFromModel\n",
    "select_lassocv = SelectFromModel(LassoCV())\n",
    "select_lassocv.fit(X_train, y_train)\n",
    "print(select_lassocv.transform(X_train).shape)"
   ]
  },
  {
   "cell_type": "code",
   "execution_count": 53,
   "metadata": {},
   "outputs": [
    {
     "name": "stderr",
     "output_type": "stream",
     "text": [
      "/Users/gceran/anaconda3/lib/python3.7/site-packages/sklearn/model_selection/_split.py:2053: FutureWarning: You should specify a value for 'cv' instead of relying on the default value. The default value will change from 3 to 5 in version 0.22.\n",
      "  warnings.warn(CV_WARNING, FutureWarning)\n",
      "/Users/gceran/anaconda3/lib/python3.7/site-packages/sklearn/model_selection/_split.py:2053: FutureWarning: You should specify a value for 'cv' instead of relying on the default value. The default value will change from 3 to 5 in version 0.22.\n",
      "  warnings.warn(CV_WARNING, FutureWarning)\n",
      "/Users/gceran/anaconda3/lib/python3.7/site-packages/sklearn/model_selection/_split.py:2053: FutureWarning: You should specify a value for 'cv' instead of relying on the default value. The default value will change from 3 to 5 in version 0.22.\n",
      "  warnings.warn(CV_WARNING, FutureWarning)\n",
      "/Users/gceran/anaconda3/lib/python3.7/site-packages/sklearn/model_selection/_split.py:2053: FutureWarning: You should specify a value for 'cv' instead of relying on the default value. The default value will change from 3 to 5 in version 0.22.\n",
      "  warnings.warn(CV_WARNING, FutureWarning)\n",
      "/Users/gceran/anaconda3/lib/python3.7/site-packages/sklearn/model_selection/_split.py:2053: FutureWarning: You should specify a value for 'cv' instead of relying on the default value. The default value will change from 3 to 5 in version 0.22.\n",
      "  warnings.warn(CV_WARNING, FutureWarning)\n",
      "/Users/gceran/anaconda3/lib/python3.7/site-packages/sklearn/model_selection/_split.py:2053: FutureWarning: You should specify a value for 'cv' instead of relying on the default value. The default value will change from 3 to 5 in version 0.22.\n",
      "  warnings.warn(CV_WARNING, FutureWarning)\n",
      "/Users/gceran/anaconda3/lib/python3.7/site-packages/sklearn/model_selection/_split.py:2053: FutureWarning: You should specify a value for 'cv' instead of relying on the default value. The default value will change from 3 to 5 in version 0.22.\n",
      "  warnings.warn(CV_WARNING, FutureWarning)\n",
      "/Users/gceran/anaconda3/lib/python3.7/site-packages/sklearn/model_selection/_split.py:2053: FutureWarning: You should specify a value for 'cv' instead of relying on the default value. The default value will change from 3 to 5 in version 0.22.\n",
      "  warnings.warn(CV_WARNING, FutureWarning)\n",
      "/Users/gceran/anaconda3/lib/python3.7/site-packages/sklearn/model_selection/_split.py:2053: FutureWarning: You should specify a value for 'cv' instead of relying on the default value. The default value will change from 3 to 5 in version 0.22.\n",
      "  warnings.warn(CV_WARNING, FutureWarning)\n",
      "/Users/gceran/anaconda3/lib/python3.7/site-packages/sklearn/model_selection/_split.py:2053: FutureWarning: You should specify a value for 'cv' instead of relying on the default value. The default value will change from 3 to 5 in version 0.22.\n",
      "  warnings.warn(CV_WARNING, FutureWarning)\n"
     ]
    },
    {
     "data": {
      "text/plain": [
       "0.7171231551882247"
      ]
     },
     "execution_count": 53,
     "metadata": {},
     "output_type": "execute_result"
    }
   ],
   "source": [
    "pipe_lassocv = make_pipeline(StandardScaler(), select_lassocv, RidgeCV())\n",
    "np.mean(cross_val_score(pipe_lassocv, X_train, y_train, cv=10))"
   ]
  },
  {
   "cell_type": "code",
   "execution_count": 54,
   "metadata": {},
   "outputs": [
    {
     "data": {
      "text/plain": [
       "0.71795885107509"
      ]
     },
     "execution_count": 54,
     "metadata": {},
     "output_type": "execute_result"
    }
   ],
   "source": [
    "np.mean(cross_val_score(all_features, X_train, y_train, cv=10))"
   ]
  },
  {
   "cell_type": "code",
   "execution_count": 55,
   "metadata": {},
   "outputs": [
    {
     "data": {
      "text/plain": [
       "0.6701928131455434"
      ]
     },
     "execution_count": 55,
     "metadata": {},
     "output_type": "execute_result"
    }
   ],
   "source": [
    "# could grid-search alpha in lasso\n",
    "select_lasso = SelectFromModel(Lasso())\n",
    "pipe_lasso = make_pipeline(StandardScaler(), select_lasso, RidgeCV())\n",
    "np.mean(cross_val_score(pipe_lasso, X_train, y_train, cv=10))"
   ]
  },
  {
   "cell_type": "code",
   "execution_count": 56,
   "metadata": {},
   "outputs": [
    {
     "data": {
      "text/plain": [
       "array([ 9,  8, 13, 11,  5,  2, 12,  4,  7,  6,  3, 10,  1])"
      ]
     },
     "execution_count": 56,
     "metadata": {},
     "output_type": "execute_result"
    }
   ],
   "source": [
    "from sklearn.linear_model import LinearRegression\n",
    "from sklearn.feature_selection import RFE\n",
    "\n",
    "# create ranking among all features by selecting only one\n",
    "rfe = RFE(LinearRegression(), n_features_to_select=1)\n",
    "rfe.fit(X_train_scaled, y_train)\n",
    "rfe.ranking_"
   ]
  },
  {
   "cell_type": "code",
   "execution_count": 57,
   "metadata": {},
   "outputs": [
    {
     "data": {
      "text/plain": [
       "<matplotlib.legend.Legend at 0x1a24fc8dd8>"
      ]
     },
     "execution_count": 57,
     "metadata": {},
     "output_type": "execute_result"
    },
    {
     "data": {
      "image/png": "[encoded data removed]",
      "text/plain": [
       "<Figure size 576x144 with 2 Axes>"
      ]
     },
     "metadata": {
      "needs_background": "light"
     },
     "output_type": "display_data"
    }
   ],
   "source": [
    "lr = LinearRegression().fit(X_train_scaled, y_train)\n",
    "fig = plt.figure(figsize=(8, 2))\n",
    "line_f, = plt.plot(np.abs(lr.coef_), 'o', c='r')\n",
    "plt.ylabel(\"LR coefficients abs\")\n",
    "ax2 = plt.twinx()\n",
    "ax2.set_ylabel(\"1 - RFE ranking\")\n",
    "line_s, = ax2.plot(1 - rfe.ranking_, 'o', alpha=.7)\n",
    "plt.xticks(range(X.shape[1]), boston.feature_names)\n",
    "plt.legend([line_s, line_f], [\"RFE ranking\", \"LR coefficients\"], loc=(0, 1))"
   ]
  },
  {
   "cell_type": "code",
   "execution_count": 58,
   "metadata": {},
   "outputs": [
    {
     "name": "stdout",
     "output_type": "stream",
     "text": [
      "[ True  True False  True  True  True False  True  True  True  True  True\n",
      "  True]\n",
      "['CRIM' 'ZN' 'CHAS' 'NOX' 'RM' 'DIS' 'RAD' 'TAX' 'PTRATIO' 'B' 'LSTAT']\n"
     ]
    }
   ],
   "source": [
    "from sklearn.linear_model import LinearRegression\n",
    "from sklearn.feature_selection import RFECV\n",
    "\n",
    "rfe = RFECV(LinearRegression(), cv=10)\n",
    "rfe.fit(X_train_scaled, y_train)\n",
    "print(rfe.support_)\n",
    "print(boston.feature_names[rfe.support_])"
   ]
  },
  {
   "cell_type": "code",
   "execution_count": 59,
   "metadata": {},
   "outputs": [
    {
     "data": {
      "text/plain": [
       "0.7102178436288838"
      ]
     },
     "execution_count": 59,
     "metadata": {},
     "output_type": "execute_result"
    }
   ],
   "source": [
    "pipe_rfe_ridgecv = make_pipeline(StandardScaler(), RFECV(LinearRegression(), cv=10), RidgeCV())\n",
    "np.mean(cross_val_score(pipe_rfe_ridgecv, X_train, y_train, cv=10))"
   ]
  },
  {
   "cell_type": "code",
   "execution_count": 60,
   "metadata": {},
   "outputs": [
    {
     "data": {
      "text/plain": [
       "0.8412260511536424"
      ]
     },
     "execution_count": 60,
     "metadata": {},
     "output_type": "execute_result"
    }
   ],
   "source": [
    "from sklearn.preprocessing import PolynomialFeatures\n",
    "pipe_rfe_ridgecv = make_pipeline(StandardScaler(), PolynomialFeatures(), RFECV(LinearRegression(), cv=10), RidgeCV())\n",
    "np.mean(cross_val_score(pipe_rfe_ridgecv, X_train, y_train, cv=10))"
   ]
  },
  {
   "cell_type": "code",
   "execution_count": 61,
   "metadata": {},
   "outputs": [
    {
     "name": "stdout",
     "output_type": "stream",
     "text": [
      "[False  True  True  True False  True  True  True False  True  True False\n",
      "  True  True False  True  True  True  True False False False  True  True\n",
      "  True False False  True  True False  True False False False False  True\n",
      "  True  True  True  True False False  True  True  True  True  True  True\n",
      "  True  True False  True  True  True  True  True  True False  True  True\n",
      " False False  True  True  True  True  True False False False  True  True\n",
      " False  True  True False False False False  True  True False  True  True\n",
      "  True  True False False  True  True  True  True  True  True  True  True\n",
      "  True False  True False  True False False False  True]\n"
     ]
    }
   ],
   "source": [
    "pipe_rfe_ridgecv.fit(X_train, y_train)\n",
    "print(pipe_rfe_ridgecv.named_steps['rfecv'].support_)"
   ]
  },
  {
   "cell_type": "code",
   "execution_count": 63,
   "metadata": {},
   "outputs": [
    {
     "data": {
      "text/plain": [
       "SequentialFeatureSelector(clone_estimator=True, cv=5,\n",
       "             estimator=LinearRegression(copy_X=True, fit_intercept=True, n_jobs=None,\n",
       "         normalize=False),\n",
       "             floating=False, forward=False, k_features=7, n_jobs=1,\n",
       "             pre_dispatch='2*n_jobs', scoring=None, verbose=0)"
      ]
     },
     "execution_count": 63,
     "metadata": {},
     "output_type": "execute_result"
    }
   ],
   "source": [
    "#You need to first install mlxtend\n",
    "#conda install mlxtend --channel conda-forge\n",
    "from mlxtend.feature_selection import SequentialFeatureSelector\n",
    "sfs = SequentialFeatureSelector(LinearRegression(), forward=False, k_features=7)\n",
    "sfs.fit(X_train_scaled, y_train)"
   ]
  },
  {
   "cell_type": "code",
   "execution_count": 64,
   "metadata": {},
   "outputs": [
    {
     "name": "stdout",
     "output_type": "stream",
     "text": [
      "(1, 4, 5, 7, 9, 10, 12)\n",
      "['ZN' 'NOX' 'RM' 'DIS' 'TAX' 'PTRATIO' 'LSTAT']\n"
     ]
    }
   ],
   "source": [
    "print(sfs.k_feature_idx_)\n",
    "print(boston.feature_names[np.array(sfs.k_feature_idx_)])"
   ]
  },
  {
   "cell_type": "code",
   "execution_count": 65,
   "metadata": {},
   "outputs": [
    {
     "data": {
      "text/plain": [
       "0.7250861222829649"
      ]
     },
     "execution_count": 65,
     "metadata": {},
     "output_type": "execute_result"
    }
   ],
   "source": [
    "sfs.k_score_"
   ]
  }
 ],
 "metadata": {
  "anaconda-cloud": {},
  "kernelspec": {
   "display_name": "Python 3",
   "language": "python",
   "name": "python3"
  },
  "language_info": {
   "codemirror_mode": {
    "name": "ipython",
    "version": 3
   },
   "file_extension": ".py",
   "mimetype": "text/x-python",
   "name": "python",
   "nbconvert_exporter": "python",
   "pygments_lexer": "ipython3",
   "version": "3.7.1"
  }
 },
 "nbformat": 4,
 "nbformat_minor": 2
}
